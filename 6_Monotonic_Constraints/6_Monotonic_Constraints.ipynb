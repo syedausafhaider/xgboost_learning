{
  "nbformat": 4,
  "nbformat_minor": 0,
  "metadata": {
    "colab": {
      "provenance": []
    },
    "kernelspec": {
      "name": "python3",
      "display_name": "Python 3"
    },
    "language_info": {
      "name": "python"
    }
  },
  "cells": [
    {
      "cell_type": "code",
      "source": [
        "import xgboost as xgb\n",
        "from sklearn.model_selection import train_test_split\n",
        "import pandas as pd\n",
        "from sklearn.preprocessing import LabelEncoder\n",
        "from sklearn.impute import SimpleImputer\n",
        "from sklearn.metrics import accuracy_score\n",
        "import matplotlib.pyplot as plt"
      ],
      "metadata": {
        "id": "5ARFwK_yDcP3"
      },
      "execution_count": 10,
      "outputs": []
    },
    {
      "cell_type": "code",
      "source": [
        "# I have loaded the Titanic dataset from a CSV file.\n",
        "data = pd.read_csv('/content/train.csv')"
      ],
      "metadata": {
        "id": "fPshgspEDdhZ"
      },
      "execution_count": 11,
      "outputs": []
    },
    {
      "cell_type": "code",
      "source": [
        "# I have handled missing values in the dataset to ensure all features are complete.\n",
        "imputer = SimpleImputer(strategy='mean')\n",
        "data['Age'] = imputer.fit_transform(data[['Age']])\n",
        "data['Fare'] = imputer.fit_transform(data[['Fare']])\n",
        "data['Embarked'].fillna('S', inplace=True)"
      ],
      "metadata": {
        "colab": {
          "base_uri": "https://localhost:8080/"
        },
        "id": "JH-qfuSKDkFo",
        "outputId": "f6b615b1-4f7c-4f32-dd13-9a662a671d59"
      },
      "execution_count": 12,
      "outputs": [
        {
          "output_type": "stream",
          "name": "stderr",
          "text": [
            "<ipython-input-12-5dcfb378549e>:5: FutureWarning: A value is trying to be set on a copy of a DataFrame or Series through chained assignment using an inplace method.\n",
            "The behavior will change in pandas 3.0. This inplace method will never work because the intermediate object on which we are setting values always behaves as a copy.\n",
            "\n",
            "For example, when doing 'df[col].method(value, inplace=True)', try using 'df.method({col: value}, inplace=True)' or df[col] = df[col].method(value) instead, to perform the operation inplace on the original object.\n",
            "\n",
            "\n",
            "  data['Embarked'].fillna('S', inplace=True)\n"
          ]
        }
      ]
    },
    {
      "cell_type": "code",
      "source": [
        "# I have encoded the categorical variables ('Sex' and 'Embarked') into numeric values using LabelEncoder.\n",
        "label_encoders = {}\n",
        "for col in ['Sex', 'Embarked']:\n",
        "    le = LabelEncoder()\n",
        "    data[col] = le.fit_transform(data[col].astype(str))\n",
        "    label_encoders[col] = le"
      ],
      "metadata": {
        "id": "sTASJ1VADnkU"
      },
      "execution_count": 13,
      "outputs": []
    },
    {
      "cell_type": "code",
      "source": [
        "# I have prepared the features (X) and target (y) for model training.\n",
        "# Features after dropping irrelevant columns: Pclass, Sex, Age, SibSp, Parch, Fare, Embarked (7 features total)\n",
        "X = data.drop(['Survived', 'PassengerId', 'Name', 'Ticket', 'Cabin'], axis=1)\n",
        "y = data['Survived']"
      ],
      "metadata": {
        "id": "CgfELoLIDrP7"
      },
      "execution_count": 14,
      "outputs": []
    },
    {
      "cell_type": "code",
      "source": [
        "# I have split the dataset into training and validation sets to evaluate the model's performance.\n",
        "X_train, X_val, y_train, y_val = train_test_split(X, y, test_size=0.2, random_state=42)"
      ],
      "metadata": {
        "id": "yOcibDt0Dvbl"
      },
      "execution_count": 15,
      "outputs": []
    },
    {
      "cell_type": "code",
      "source": [
        "# I have converted the datasets into DMatrix format, which is optimized for XGBoost computations.\n",
        "dtrain = xgb.DMatrix(X_train, label=y_train)\n",
        "dval = xgb.DMatrix(X_val, label=y_val)"
      ],
      "metadata": {
        "id": "UDNYUk4jDzBK"
      },
      "execution_count": 16,
      "outputs": []
    },
    {
      "cell_type": "code",
      "source": [
        "# I have defined monotonic constraints to enforce domain knowledge.\n",
        "# The constraint tuple must have the same length as the number of features (7 in this case).\n",
        "# Features in order: Pclass, Sex, Age, SibSp, Parch, Fare, Embarked\n",
        "# I applied a positive constraint to 'Fare' (index 5) to enforce that higher fares increase survival probability.\n",
        "params = {\n",
        "    'objective': 'binary:logistic',\n",
        "    'eval_metric': 'logloss',\n",
        "    'max_depth': 6,\n",
        "    'eta': 0.1,\n",
        "    'monotone_constraints': '(0,0,0,0,0,1,0)'  # 7 values for 7 features\n",
        "}"
      ],
      "metadata": {
        "id": "o8am4JGoD2U2"
      },
      "execution_count": 17,
      "outputs": []
    },
    {
      "cell_type": "code",
      "source": [
        "# I have trained the XGBoost model with monotonic constraints.\n",
        "# This ensures that the 'Fare' feature has a positive relationship with survival probability.\n",
        "bst = xgb.train(\n",
        "    params,\n",
        "    dtrain,\n",
        "    num_boost_round=100,\n",
        "    evals=[(dval, 'validation')],\n",
        "    early_stopping_rounds=10\n",
        ")"
      ],
      "metadata": {
        "colab": {
          "base_uri": "https://localhost:8080/"
        },
        "id": "CZJR2gLmD62a",
        "outputId": "85fddce9-d0b5-464e-cd96-f73b6e987625"
      },
      "execution_count": 18,
      "outputs": [
        {
          "output_type": "stream",
          "name": "stdout",
          "text": [
            "[0]\tvalidation-logloss:0.63599\n",
            "[1]\tvalidation-logloss:0.60053\n",
            "[2]\tvalidation-logloss:0.57180\n",
            "[3]\tvalidation-logloss:0.54848\n",
            "[4]\tvalidation-logloss:0.52827\n",
            "[5]\tvalidation-logloss:0.51195\n",
            "[6]\tvalidation-logloss:0.49892\n",
            "[7]\tvalidation-logloss:0.48646\n",
            "[8]\tvalidation-logloss:0.47489\n",
            "[9]\tvalidation-logloss:0.46713\n",
            "[10]\tvalidation-logloss:0.45857\n",
            "[11]\tvalidation-logloss:0.45146\n",
            "[12]\tvalidation-logloss:0.44661\n",
            "[13]\tvalidation-logloss:0.44282\n",
            "[14]\tvalidation-logloss:0.43814\n",
            "[15]\tvalidation-logloss:0.43712\n",
            "[16]\tvalidation-logloss:0.43321\n",
            "[17]\tvalidation-logloss:0.43078\n",
            "[18]\tvalidation-logloss:0.42724\n",
            "[19]\tvalidation-logloss:0.42506\n",
            "[20]\tvalidation-logloss:0.42383\n",
            "[21]\tvalidation-logloss:0.42154\n",
            "[22]\tvalidation-logloss:0.42180\n",
            "[23]\tvalidation-logloss:0.42052\n",
            "[24]\tvalidation-logloss:0.42096\n",
            "[25]\tvalidation-logloss:0.42079\n",
            "[26]\tvalidation-logloss:0.42012\n",
            "[27]\tvalidation-logloss:0.42000\n",
            "[28]\tvalidation-logloss:0.42028\n",
            "[29]\tvalidation-logloss:0.42078\n",
            "[30]\tvalidation-logloss:0.42079\n",
            "[31]\tvalidation-logloss:0.42212\n",
            "[32]\tvalidation-logloss:0.42164\n",
            "[33]\tvalidation-logloss:0.42067\n",
            "[34]\tvalidation-logloss:0.42214\n",
            "[35]\tvalidation-logloss:0.42287\n",
            "[36]\tvalidation-logloss:0.42237\n",
            "[37]\tvalidation-logloss:0.42225\n"
          ]
        }
      ]
    },
    {
      "cell_type": "code",
      "source": [
        "# I have made predictions on the validation set using the trained model.\n",
        "y_pred_prob = bst.predict(dval)\n",
        "y_pred = (y_pred_prob > 0.5).astype(int)"
      ],
      "metadata": {
        "id": "dfEPd5lxD92E"
      },
      "execution_count": 19,
      "outputs": []
    },
    {
      "cell_type": "code",
      "source": [
        "# I have evaluated the model's performance using accuracy.\n",
        "print(\"Accuracy:\", accuracy_score(y_val, y_pred))"
      ],
      "metadata": {
        "colab": {
          "base_uri": "https://localhost:8080/"
        },
        "id": "_n2fCBZPEC4k",
        "outputId": "ee544249-f704-48f9-dc36-e82653fb1b49"
      },
      "execution_count": 20,
      "outputs": [
        {
          "output_type": "stream",
          "name": "stdout",
          "text": [
            "Accuracy: 0.8156424581005587\n"
          ]
        }
      ]
    },
    {
      "cell_type": "code",
      "source": [
        "# I have visualized the feature importance to confirm the impact of the constrained feature ('Fare').\n",
        "plt.figure(figsize=(10, 6))\n",
        "xgb.plot_importance(bst, importance_type='gain', grid=False)\n",
        "plt.title(\"Feature Importance by Gain\")\n",
        "plt.xlabel(\"Gain\")\n",
        "plt.ylabel(\"Features\")\n",
        "plt.show()"
      ],
      "metadata": {
        "colab": {
          "base_uri": "https://localhost:8080/",
          "height": 490
        },
        "id": "NkOKBiBxEHh6",
        "outputId": "c95e31af-cf56-4a96-8c99-d17a47efaca3"
      },
      "execution_count": 21,
      "outputs": [
        {
          "output_type": "display_data",
          "data": {
            "text/plain": [
              "<Figure size 1000x600 with 0 Axes>"
            ]
          },
          "metadata": {}
        },
        {
          "output_type": "display_data",
          "data": {
            "text/plain": [
              "<Figure size 640x480 with 1 Axes>"
            ],
            "image/png": "[encoded data removed]"
          },
          "metadata": {}
        }
      ]
    },
    {
      "cell_type": "code",
      "source": [],
      "metadata": {
        "id": "yGiHwX5MEW7B"
      },
      "execution_count": null,
      "outputs": []
    }
  ]
}