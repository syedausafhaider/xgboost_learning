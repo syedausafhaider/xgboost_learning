{
  "nbformat": 4,
  "nbformat_minor": 0,
  "metadata": {
    "colab": {
      "provenance": []
    },
    "kernelspec": {
      "name": "python3",
      "display_name": "Python 3"
    },
    "language_info": {
      "name": "python"
    }
  },
  "cells": [
    {
      "cell_type": "code",
      "execution_count": 1,
      "metadata": {
        "id": "WF_CcnjknFpY"
      },
      "outputs": [],
      "source": [
        "import xgboost as xgb\n",
        "from sklearn.model_selection import train_test_split\n",
        "import pandas as pd\n",
        "import numpy as np\n",
        "from sklearn.preprocessing import LabelEncoder\n",
        "from sklearn.impute import SimpleImputer\n",
        "from sklearn.metrics import accuracy_score\n",
        "import matplotlib.pyplot as plt"
      ]
    },
    {
      "cell_type": "code",
      "source": [
        "# I have loaded the Titanic dataset from a CSV file.\n",
        "data = pd.read_csv('/content/train.csv')"
      ],
      "metadata": {
        "id": "d-nxoZGcoDI_"
      },
      "execution_count": 2,
      "outputs": []
    },
    {
      "cell_type": "code",
      "source": [
        "# I have handled missing values in the dataset to ensure all features are complete.\n",
        "imputer = SimpleImputer(strategy='mean')\n",
        "data['Age'] = imputer.fit_transform(data[['Age']])\n",
        "data['Fare'] = imputer.fit_transform(data[['Fare']])\n",
        "data['Embarked'].fillna('S', inplace=True)"
      ],
      "metadata": {
        "colab": {
          "base_uri": "https://localhost:8080/"
        },
        "id": "r4OYKhN6oUGH",
        "outputId": "c195f154-8f07-46d1-b74f-77befdcabe12"
      },
      "execution_count": 3,
      "outputs": [
        {
          "output_type": "stream",
          "name": "stderr",
          "text": [
            "<ipython-input-3-5dcfb378549e>:5: FutureWarning: A value is trying to be set on a copy of a DataFrame or Series through chained assignment using an inplace method.\n",
            "The behavior will change in pandas 3.0. This inplace method will never work because the intermediate object on which we are setting values always behaves as a copy.\n",
            "\n",
            "For example, when doing 'df[col].method(value, inplace=True)', try using 'df.method({col: value}, inplace=True)' or df[col] = df[col].method(value) instead, to perform the operation inplace on the original object.\n",
            "\n",
            "\n",
            "  data['Embarked'].fillna('S', inplace=True)\n"
          ]
        }
      ]
    },
    {
      "cell_type": "code",
      "source": [
        "# I have encoded the categorical variables ('Sex' and 'Embarked') into numeric values using LabelEncoder.\n",
        "label_encoders = {}\n",
        "for col in ['Sex', 'Embarked']:\n",
        "    le = LabelEncoder()\n",
        "    data[col] = le.fit_transform(data[col].astype(str))\n",
        "    label_encoders[col] = le"
      ],
      "metadata": {
        "id": "QrqVtYsVoWy6"
      },
      "execution_count": 5,
      "outputs": []
    },
    {
      "cell_type": "code",
      "source": [
        "# I have prepared the features (X) and target (y) for model training.\n",
        "X = data.drop(['Survived', 'PassengerId', 'Name', 'Ticket', 'Cabin'], axis=1)\n",
        "y = data['Survived']"
      ],
      "metadata": {
        "id": "RVaUdjZdoYtf"
      },
      "execution_count": 6,
      "outputs": []
    },
    {
      "cell_type": "code",
      "source": [
        "# I have split the dataset into training and validation sets to evaluate the model's performance.\n",
        "X_train, X_val, y_train, y_val = train_test_split(X, y, test_size=0.2, random_state=42)"
      ],
      "metadata": {
        "id": "ACYxh46PoneZ"
      },
      "execution_count": 7,
      "outputs": []
    },
    {
      "cell_type": "code",
      "source": [
        "# I have converted the datasets into DMatrix format, which is optimized for XGBoost computations.\n",
        "dtrain = xgb.DMatrix(X_train, label=y_train)\n",
        "dval = xgb.DMatrix(X_val, label=y_val)"
      ],
      "metadata": {
        "id": "uC4BMzeXopgY"
      },
      "execution_count": 8,
      "outputs": []
    },
    {
      "cell_type": "code",
      "source": [
        "# I have defined a learning rate decay function to reduce the learning rate exponentially over boosting rounds.\n",
        "def learning_rate_decay(iteration):\n",
        "    initial_lr = 0.1  # I have set the initial learning rate to 0.1.\n",
        "    decay_rate = 0.99  # I have chosen a decay rate of 0.99 to gradually reduce the learning rate.\n",
        "    return initial_lr * (decay_rate ** iteration)  # Exponential decay formula"
      ],
      "metadata": {
        "id": "9XV4D--Zos-5"
      },
      "execution_count": 9,
      "outputs": []
    },
    {
      "cell_type": "code",
      "source": [
        "# I have created a callback to apply the learning rate decay during training.\n",
        "# This callback dynamically adjusts the learning rate after each boosting round.\n",
        "callback = xgb.callback.LearningRateScheduler(learning_rate_decay)"
      ],
      "metadata": {
        "id": "iOYveYV3ovku"
      },
      "execution_count": 10,
      "outputs": []
    },
    {
      "cell_type": "code",
      "source": [
        "# I have defined the hyperparameters for the XGBoost model.\n",
        "params = {\n",
        "    'objective': 'binary:logistic',\n",
        "    'eval_metric': 'logloss',\n",
        "    'max_depth': 6,\n",
        "    'eta': 0.1  # Initial learning rate (will be overridden by the callback)\n",
        "}"
      ],
      "metadata": {
        "id": "9Ig2Ov_No-QE"
      },
      "execution_count": 11,
      "outputs": []
    },
    {
      "cell_type": "code",
      "source": [
        "# I have trained the XGBoost model with learning rate decay.\n",
        "# The callback reduces the learning rate after each iteration to improve convergence.\n",
        "bst = xgb.train(\n",
        "    params,\n",
        "    dtrain,\n",
        "    num_boost_round=100,\n",
        "    evals=[(dval, 'validation')],\n",
        "    callbacks=[callback],  # Apply the learning rate decay callback\n",
        "    early_stopping_rounds=10\n",
        ")"
      ],
      "metadata": {
        "colab": {
          "base_uri": "https://localhost:8080/"
        },
        "id": "4JSh6yMCpD2K",
        "outputId": "7367f596-ad22-412f-a5ff-64c0d021b4f5"
      },
      "execution_count": 12,
      "outputs": [
        {
          "output_type": "stream",
          "name": "stdout",
          "text": [
            "[0]\tvalidation-logloss:0.63257\n",
            "[1]\tvalidation-logloss:0.59429\n",
            "[2]\tvalidation-logloss:0.56316\n",
            "[3]\tvalidation-logloss:0.53869\n",
            "[4]\tvalidation-logloss:0.52044\n",
            "[5]\tvalidation-logloss:0.50355\n",
            "[6]\tvalidation-logloss:0.48984\n",
            "[7]\tvalidation-logloss:0.47851\n",
            "[8]\tvalidation-logloss:0.46892\n",
            "[9]\tvalidation-logloss:0.46124\n",
            "[10]\tvalidation-logloss:0.45563\n",
            "[11]\tvalidation-logloss:0.44855\n",
            "[12]\tvalidation-logloss:0.44192\n",
            "[13]\tvalidation-logloss:0.43872\n",
            "[14]\tvalidation-logloss:0.43508\n",
            "[15]\tvalidation-logloss:0.43152\n",
            "[16]\tvalidation-logloss:0.42988\n",
            "[17]\tvalidation-logloss:0.42801\n",
            "[18]\tvalidation-logloss:0.42696\n",
            "[19]\tvalidation-logloss:0.42510\n",
            "[20]\tvalidation-logloss:0.42313\n",
            "[21]\tvalidation-logloss:0.42121\n",
            "[22]\tvalidation-logloss:0.41994\n",
            "[23]\tvalidation-logloss:0.41912\n",
            "[24]\tvalidation-logloss:0.41858\n",
            "[25]\tvalidation-logloss:0.41755\n",
            "[26]\tvalidation-logloss:0.41814\n",
            "[27]\tvalidation-logloss:0.41751\n",
            "[28]\tvalidation-logloss:0.41665\n",
            "[29]\tvalidation-logloss:0.41744\n",
            "[30]\tvalidation-logloss:0.41732\n",
            "[31]\tvalidation-logloss:0.41751\n",
            "[32]\tvalidation-logloss:0.41884\n",
            "[33]\tvalidation-logloss:0.41955\n",
            "[34]\tvalidation-logloss:0.41832\n",
            "[35]\tvalidation-logloss:0.41793\n",
            "[36]\tvalidation-logloss:0.41817\n",
            "[37]\tvalidation-logloss:0.41732\n"
          ]
        }
      ]
    },
    {
      "cell_type": "code",
      "source": [
        "# I have made predictions on the validation set using the trained XGBoost model.\n",
        "y_pred_prob = bst.predict(dval)\n",
        "y_pred = (y_pred_prob > 0.5).astype(int)  # Convert probabilities to binary predictions"
      ],
      "metadata": {
        "id": "tvT8LnoPpF6-"
      },
      "execution_count": 13,
      "outputs": []
    },
    {
      "cell_type": "code",
      "source": [
        "# I have evaluated the model's performance using accuracy.\n",
        "print(\"Accuracy:\", accuracy_score(y_val, y_pred))"
      ],
      "metadata": {
        "colab": {
          "base_uri": "https://localhost:8080/"
        },
        "id": "AcPzUSrPpItB",
        "outputId": "105f1b97-deae-406c-876f-2dadd0085705"
      },
      "execution_count": 14,
      "outputs": [
        {
          "output_type": "stream",
          "name": "stdout",
          "text": [
            "Accuracy: 0.8268156424581006\n"
          ]
        }
      ]
    },
    {
      "cell_type": "code",
      "source": [
        "# I have visualized the learning rate decay over boosting rounds to confirm the schedule.\n",
        "# This plot shows how the learning rate decreases exponentially with each iteration.\n",
        "plt.figure(figsize=(10, 6))\n",
        "plt.plot([learning_rate_decay(i) for i in range(100)], label='Learning Rate Decay')\n",
        "plt.xlabel(\"Boosting Round\")\n",
        "plt.ylabel(\"Learning Rate\")\n",
        "plt.title(\"Learning Rate Decay Schedule\")\n",
        "plt.legend()\n",
        "plt.show()"
      ],
      "metadata": {
        "colab": {
          "base_uri": "https://localhost:8080/",
          "height": 564
        },
        "id": "JvYGdc_hpK1d",
        "outputId": "9a1456b6-3346-4f75-d34b-addf003abe8b"
      },
      "execution_count": 15,
      "outputs": [
        {
          "output_type": "display_data",
          "data": {
            "text/plain": [
              "<Figure size 1000x600 with 1 Axes>"
            ],
            "image/png": "[encoded data removed]"
          },
          "metadata": {}
        }
      ]
    },
    {
      "cell_type": "code",
      "source": [],
      "metadata": {
        "id": "lHI6OdrppM5f"
      },
      "execution_count": null,
      "outputs": []
    }
  ]
}